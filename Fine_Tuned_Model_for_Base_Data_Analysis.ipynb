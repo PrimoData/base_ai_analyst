{
  "nbformat": 4,
  "nbformat_minor": 0,
  "metadata": {
    "colab": {
      "provenance": []
    },
    "kernelspec": {
      "name": "python3",
      "display_name": "Python 3"
    },
    "language_info": {
      "name": "python"
    }
  },
  "cells": [
    {
      "cell_type": "markdown",
      "source": [
        "# Fine Tuned Model for Base Data Analysis\n",
        "\n",
        "**TLDR: Fine tuned an OpenAI model to write SQL queries to analyze Base blockchain data.**\n",
        "\n",
        "[Base](https://base.org/) blockchain data provided by [Flipside](https://flipsidecrypto.xyz/).\n",
        "\n",
        "Queries were sourced from Base/Flipside dashboards by [@adriaparcerisas](https://flipsidecrypto.xyz/adriaparcerisas/base-active-users-fBkhsx), [@AliTslm](https://flipsidecrypto.xyz/alitaslimi/base-mainnet-base-mainnet-s0oITj), [@jackguy](https://flipsidecrypto.xyz/jackguy/base-onchain-summer-nft-dashboard-base-onchain-summer-nft-dashboard-VfYxS8), [@piper](https://flipsidecrypto.xyz/piper/base-onchain-summer-starts-08-09-23-base---onchain-summer-starts-08.09.23-pI8o4d), and [@saeedmzn](https://flipsidecrypto.xyz/saeedmzn/base-rank-check-base-rank-check-6DQsjX).\n",
        "\n"
      ],
      "metadata": {
        "id": "WKThJK4yay57"
      }
    },
    {
      "cell_type": "code",
      "source": [
        "%pip install openai"
      ],
      "metadata": {
        "id": "pCY3INtxbS_p"
      },
      "execution_count": null,
      "outputs": []
    },
    {
      "cell_type": "code",
      "source": [
        "import os\n",
        "import openai\n",
        "import pandas as pd\n",
        "import csv\n",
        "import json\n",
        "import getpass\n",
        "\n",
        "openai.api_key = getpass.getpass()"
      ],
      "metadata": {
        "colab": {
          "base_uri": "https://localhost:8080/"
        },
        "id": "HSUpaMTssxO0",
        "outputId": "ccc49f4d-998d-4f8e-eddb-33c642669d18"
      },
      "execution_count": null,
      "outputs": [
        {
          "name": "stdout",
          "output_type": "stream",
          "text": [
            "··········\n"
          ]
        }
      ]
    },
    {
      "cell_type": "code",
      "source": [
        "# CSV file with question/query examples\n",
        "queries_df = pd.read_csv(\"Flipside Base Queries.csv\")\n",
        "queries_df.head()"
      ],
      "metadata": {
        "colab": {
          "base_uri": "https://localhost:8080/",
          "height": 206
        },
        "id": "IBA_8ny_rfwB",
        "outputId": "8cce5178-a113-4b39-f293-9b2c31ec0e7b"
      },
      "execution_count": null,
      "outputs": [
        {
          "output_type": "execute_result",
          "data": {
            "text/plain": [
              "                                              system  \\\n",
              "0  You are an SQL assistant. You write SQL to que...   \n",
              "1  You are an SQL assistant. You write SQL to que...   \n",
              "2  You are an SQL assistant. You write SQL to que...   \n",
              "3  You are an SQL assistant. You write SQL to que...   \n",
              "4  You are an SQL assistant. You write SQL to que...   \n",
              "\n",
              "                                                user  \\\n",
              "0  what is the number of daily active users trans...   \n",
              "1  what is the number of daily active users swapp...   \n",
              "2  what is the number of daily active users using...   \n",
              "3  what is the number of daily Base transactions ...   \n",
              "4  what is the daily and total number of transact...   \n",
              "\n",
              "                                           assistant  \n",
              "0   WITH\\n  daus as (\\n  SELECT\\n  distinct from_...  \n",
              "1   WITH\\n  daus as (\\n  SELECT\\n  distinct from_...  \n",
              "2  WITH\\n  daus as (\\n  SELECT\\n  distinct nft_fr...  \n",
              "3   WITH\\n  daus as (\\n  SELECT\\n  distinct from_...  \n",
              "4  select\\r\\n  block_timestamp::date as \"Date\",\\r...  "
            ],
            "text/html": [
              "\n",
              "  <div id=\"df-d2c87731-ba4c-45c7-a208-99bde96f682f\" class=\"colab-df-container\">\n",
              "    <div>\n",
              "<style scoped>\n",
              "    .dataframe tbody tr th:only-of-type {\n",
              "        vertical-align: middle;\n",
              "    }\n",
              "\n",
              "    .dataframe tbody tr th {\n",
              "        vertical-align: top;\n",
              "    }\n",
              "\n",
              "    .dataframe thead th {\n",
              "        text-align: right;\n",
              "    }\n",
              "</style>\n",
              "<table border=\"1\" class=\"dataframe\">\n",
              "  <thead>\n",
              "    <tr style=\"text-align: right;\">\n",
              "      <th></th>\n",
              "      <th>system</th>\n",
              "      <th>user</th>\n",
              "      <th>assistant</th>\n",
              "    </tr>\n",
              "  </thead>\n",
              "  <tbody>\n",
              "    <tr>\n",
              "      <th>0</th>\n",
              "      <td>You are an SQL assistant. You write SQL to que...</td>\n",
              "      <td>what is the number of daily active users trans...</td>\n",
              "      <td>WITH\\n  daus as (\\n  SELECT\\n  distinct from_...</td>\n",
              "    </tr>\n",
              "    <tr>\n",
              "      <th>1</th>\n",
              "      <td>You are an SQL assistant. You write SQL to que...</td>\n",
              "      <td>what is the number of daily active users swapp...</td>\n",
              "      <td>WITH\\n  daus as (\\n  SELECT\\n  distinct from_...</td>\n",
              "    </tr>\n",
              "    <tr>\n",
              "      <th>2</th>\n",
              "      <td>You are an SQL assistant. You write SQL to que...</td>\n",
              "      <td>what is the number of daily active users using...</td>\n",
              "      <td>WITH\\n  daus as (\\n  SELECT\\n  distinct nft_fr...</td>\n",
              "    </tr>\n",
              "    <tr>\n",
              "      <th>3</th>\n",
              "      <td>You are an SQL assistant. You write SQL to que...</td>\n",
              "      <td>what is the number of daily Base transactions ...</td>\n",
              "      <td>WITH\\n  daus as (\\n  SELECT\\n  distinct from_...</td>\n",
              "    </tr>\n",
              "    <tr>\n",
              "      <th>4</th>\n",
              "      <td>You are an SQL assistant. You write SQL to que...</td>\n",
              "      <td>what is the daily and total number of transact...</td>\n",
              "      <td>select\\r\\n  block_timestamp::date as \"Date\",\\r...</td>\n",
              "    </tr>\n",
              "  </tbody>\n",
              "</table>\n",
              "</div>\n",
              "    <div class=\"colab-df-buttons\">\n",
              "\n",
              "  <div class=\"colab-df-container\">\n",
              "    <button class=\"colab-df-convert\" onclick=\"convertToInteractive('df-d2c87731-ba4c-45c7-a208-99bde96f682f')\"\n",
              "            title=\"Convert this dataframe to an interactive table.\"\n",
              "            style=\"display:none;\">\n",
              "\n",
              "  <svg xmlns=\"http://www.w3.org/2000/svg\" height=\"24px\" viewBox=\"0 -960 960 960\">\n",
              "    <path d=\"M120-120v-720h720v720H120Zm60-500h600v-160H180v160Zm220 220h160v-160H400v160Zm0 220h160v-160H400v160ZM180-400h160v-160H180v160Zm440 0h160v-160H620v160ZM180-180h160v-160H180v160Zm440 0h160v-160H620v160Z\"/>\n",
              "  </svg>\n",
              "    </button>\n",
              "\n",
              "  <style>\n",
              "    .colab-df-container {\n",
              "      display:flex;\n",
              "      gap: 12px;\n",
              "    }\n",
              "\n",
              "    .colab-df-convert {\n",
              "      background-color: #E8F0FE;\n",
              "      border: none;\n",
              "      border-radius: 50%;\n",
              "      cursor: pointer;\n",
              "      display: none;\n",
              "      fill: #1967D2;\n",
              "      height: 32px;\n",
              "      padding: 0 0 0 0;\n",
              "      width: 32px;\n",
              "    }\n",
              "\n",
              "    .colab-df-convert:hover {\n",
              "      background-color: #E2EBFA;\n",
              "      box-shadow: 0px 1px 2px rgba(60, 64, 67, 0.3), 0px 1px 3px 1px rgba(60, 64, 67, 0.15);\n",
              "      fill: #174EA6;\n",
              "    }\n",
              "\n",
              "    .colab-df-buttons div {\n",
              "      margin-bottom: 4px;\n",
              "    }\n",
              "\n",
              "    [theme=dark] .colab-df-convert {\n",
              "      background-color: #3B4455;\n",
              "      fill: #D2E3FC;\n",
              "    }\n",
              "\n",
              "    [theme=dark] .colab-df-convert:hover {\n",
              "      background-color: #434B5C;\n",
              "      box-shadow: 0px 1px 3px 1px rgba(0, 0, 0, 0.15);\n",
              "      filter: drop-shadow(0px 1px 2px rgba(0, 0, 0, 0.3));\n",
              "      fill: #FFFFFF;\n",
              "    }\n",
              "  </style>\n",
              "\n",
              "    <script>\n",
              "      const buttonEl =\n",
              "        document.querySelector('#df-d2c87731-ba4c-45c7-a208-99bde96f682f button.colab-df-convert');\n",
              "      buttonEl.style.display =\n",
              "        google.colab.kernel.accessAllowed ? 'block' : 'none';\n",
              "\n",
              "      async function convertToInteractive(key) {\n",
              "        const element = document.querySelector('#df-d2c87731-ba4c-45c7-a208-99bde96f682f');\n",
              "        const dataTable =\n",
              "          await google.colab.kernel.invokeFunction('convertToInteractive',\n",
              "                                                    [key], {});\n",
              "        if (!dataTable) return;\n",
              "\n",
              "        const docLinkHtml = 'Like what you see? Visit the ' +\n",
              "          '<a target=\"_blank\" href=https://colab.research.google.com/notebooks/data_table.ipynb>data table notebook</a>'\n",
              "          + ' to learn more about interactive tables.';\n",
              "        element.innerHTML = '';\n",
              "        dataTable['output_type'] = 'display_data';\n",
              "        await google.colab.output.renderOutput(dataTable, element);\n",
              "        const docLink = document.createElement('div');\n",
              "        docLink.innerHTML = docLinkHtml;\n",
              "        element.appendChild(docLink);\n",
              "      }\n",
              "    </script>\n",
              "  </div>\n",
              "\n",
              "\n",
              "<div id=\"df-c6334ba6-bb39-459d-bd09-bc81ce841d07\">\n",
              "  <button class=\"colab-df-quickchart\" onclick=\"quickchart('df-c6334ba6-bb39-459d-bd09-bc81ce841d07')\"\n",
              "            title=\"Suggest charts.\"\n",
              "            style=\"display:none;\">\n",
              "\n",
              "<svg xmlns=\"http://www.w3.org/2000/svg\" height=\"24px\"viewBox=\"0 0 24 24\"\n",
              "     width=\"24px\">\n",
              "    <g>\n",
              "        <path d=\"M19 3H5c-1.1 0-2 .9-2 2v14c0 1.1.9 2 2 2h14c1.1 0 2-.9 2-2V5c0-1.1-.9-2-2-2zM9 17H7v-7h2v7zm4 0h-2V7h2v10zm4 0h-2v-4h2v4z\"/>\n",
              "    </g>\n",
              "</svg>\n",
              "  </button>\n",
              "\n",
              "<style>\n",
              "  .colab-df-quickchart {\n",
              "    background-color: #E8F0FE;\n",
              "    border: none;\n",
              "    border-radius: 50%;\n",
              "    cursor: pointer;\n",
              "    display: none;\n",
              "    fill: #1967D2;\n",
              "    height: 32px;\n",
              "    padding: 0 0 0 0;\n",
              "    width: 32px;\n",
              "  }\n",
              "\n",
              "  .colab-df-quickchart:hover {\n",
              "    background-color: #E2EBFA;\n",
              "    box-shadow: 0px 1px 2px rgba(60, 64, 67, 0.3), 0px 1px 3px 1px rgba(60, 64, 67, 0.15);\n",
              "    fill: #174EA6;\n",
              "  }\n",
              "\n",
              "  [theme=dark] .colab-df-quickchart {\n",
              "    background-color: #3B4455;\n",
              "    fill: #D2E3FC;\n",
              "  }\n",
              "\n",
              "  [theme=dark] .colab-df-quickchart:hover {\n",
              "    background-color: #434B5C;\n",
              "    box-shadow: 0px 1px 3px 1px rgba(0, 0, 0, 0.15);\n",
              "    filter: drop-shadow(0px 1px 2px rgba(0, 0, 0, 0.3));\n",
              "    fill: #FFFFFF;\n",
              "  }\n",
              "</style>\n",
              "\n",
              "  <script>\n",
              "    async function quickchart(key) {\n",
              "      const charts = await google.colab.kernel.invokeFunction(\n",
              "          'suggestCharts', [key], {});\n",
              "    }\n",
              "    (() => {\n",
              "      let quickchartButtonEl =\n",
              "        document.querySelector('#df-c6334ba6-bb39-459d-bd09-bc81ce841d07 button');\n",
              "      quickchartButtonEl.style.display =\n",
              "        google.colab.kernel.accessAllowed ? 'block' : 'none';\n",
              "    })();\n",
              "  </script>\n",
              "</div>\n",
              "    </div>\n",
              "  </div>\n"
            ]
          },
          "metadata": {},
          "execution_count": 4
        }
      ]
    },
    {
      "cell_type": "code",
      "source": [
        "# Convert CSV file to proper JSON format to fine tune\n",
        "with open('Flipside Base Queries.csv', 'r') as csv_file:\n",
        "    csv_reader = csv.DictReader(csv_file)\n",
        "    json_messages_list = []\n",
        "    for row in csv_reader:\n",
        "        json_messages = [\n",
        "            {\"role\": \"system\", \"content\": row[\"system\"]},\n",
        "            {\"role\": \"user\", \"content\": row[\"user\"]},\n",
        "            {\"role\": \"assistant\", \"content\": row[\"assistant\"]}\n",
        "        ]\n",
        "        json_messages_list.append({\"messages\": json_messages})\n",
        "\n",
        "    # Write to JSON file\n",
        "    with open('queries.json', 'w') as json_file:\n",
        "        for json_message in json_messages_list:\n",
        "            json.dump(json_message, json_file)\n",
        "            json_file.write('\\n')\n"
      ],
      "metadata": {
        "id": "XOsbQIS7rsB8"
      },
      "execution_count": null,
      "outputs": []
    },
    {
      "cell_type": "code",
      "source": [
        "# Create file with examples to fine tune model\n",
        "openai.File.create(\n",
        "  file=open(\"queries.json\", \"rb\"),\n",
        "  purpose='fine-tune'\n",
        ")"
      ],
      "metadata": {
        "id": "R8pjnIRdbnoF",
        "colab": {
          "base_uri": "https://localhost:8080/"
        },
        "outputId": "b4b70f9a-5cc2-4e80-e57f-7a32c08a6745"
      },
      "execution_count": null,
      "outputs": [
        {
          "output_type": "execute_result",
          "data": {
            "text/plain": [
              "<File file id=file-Hyb3bEqTEJxuKu0sf2uz48Il at 0x7e951e576e80> JSON: {\n",
              "  \"object\": \"file\",\n",
              "  \"id\": \"file-Hyb3bEqTEJxuKu0sf2uz48Il\",\n",
              "  \"purpose\": \"fine-tune\",\n",
              "  \"filename\": \"file\",\n",
              "  \"bytes\": 73424,\n",
              "  \"created_at\": 1692765793,\n",
              "  \"status\": \"uploaded\",\n",
              "  \"status_details\": null\n",
              "}"
            ]
          },
          "metadata": {},
          "execution_count": 8
        }
      ]
    },
    {
      "cell_type": "code",
      "source": [
        "# Start fine tuning Job (Took < 10 mins)\n",
        "openai.FineTuningJob.create(training_file=\"file-Hyb3bEqTEJxuKu0sf2uz48Il\", model=\"gpt-3.5-turbo\")"
      ],
      "metadata": {
        "id": "PYe4DWdXbnja",
        "colab": {
          "base_uri": "https://localhost:8080/"
        },
        "outputId": "924af2ba-ca67-4bd5-8f5f-72a8c06389a2"
      },
      "execution_count": null,
      "outputs": [
        {
          "output_type": "execute_result",
          "data": {
            "text/plain": [
              "<FineTuningJob fine_tuning.job id=ftjob-ajDSfTME882gihBIwNpL23pq at 0x7e951e5a63e0> JSON: {\n",
              "  \"object\": \"fine_tuning.job\",\n",
              "  \"id\": \"ftjob-ajDSfTME882gihBIwNpL23pq\",\n",
              "  \"model\": \"gpt-3.5-turbo-0613\",\n",
              "  \"created_at\": 1692765823,\n",
              "  \"finished_at\": null,\n",
              "  \"fine_tuned_model\": null,\n",
              "  \"organization_id\": \"org-62MyjxLwbbsMgywL5uJQVgjM\",\n",
              "  \"result_files\": [],\n",
              "  \"status\": \"created\",\n",
              "  \"validation_file\": null,\n",
              "  \"training_file\": \"file-Hyb3bEqTEJxuKu0sf2uz48Il\",\n",
              "  \"hyperparameters\": {\n",
              "    \"n_epochs\": 5\n",
              "  },\n",
              "  \"trained_tokens\": null\n",
              "}"
            ]
          },
          "metadata": {},
          "execution_count": 9
        }
      ]
    },
    {
      "cell_type": "code",
      "source": [
        "# Find the name of the fine tuning job\n",
        "openai.FineTuningJob.list(limit=10)"
      ],
      "metadata": {
        "colab": {
          "base_uri": "https://localhost:8080/"
        },
        "id": "WcMuOX-StPKi",
        "outputId": "d8f2218e-211b-42f5-e24b-dfa338c91b8f"
      },
      "execution_count": null,
      "outputs": [
        {
          "output_type": "execute_result",
          "data": {
            "text/plain": [
              "<OpenAIObject list at 0x7e951e705e40> JSON: {\n",
              "  \"object\": \"list\",\n",
              "  \"data\": [\n",
              "    {\n",
              "      \"object\": \"fine_tuning.job\",\n",
              "      \"id\": \"ftjob-ajDSfTME882gihBIwNpL23pq\",\n",
              "      \"model\": \"gpt-3.5-turbo-0613\",\n",
              "      \"created_at\": 1692765823,\n",
              "      \"finished_at\": 1692766383,\n",
              "      \"fine_tuned_model\": \"ft:gpt-3.5-turbo-0613:personal::7qa9UP0a\",\n",
              "      \"organization_id\": \"org-62MyjxLwbbsMgywL5uJQVgjM\",\n",
              "      \"result_files\": [\n",
              "        \"file-CYxIMhNm4hJq8otgcb9Nb04N\"\n",
              "      ],\n",
              "      \"status\": \"succeeded\",\n",
              "      \"validation_file\": null,\n",
              "      \"training_file\": \"file-Hyb3bEqTEJxuKu0sf2uz48Il\",\n",
              "      \"hyperparameters\": {\n",
              "        \"n_epochs\": 5\n",
              "      },\n",
              "      \"trained_tokens\": 79975\n",
              "    }\n",
              "  ],\n",
              "  \"has_more\": false\n",
              "}"
            ]
          },
          "metadata": {},
          "execution_count": 18
        }
      ]
    },
    {
      "cell_type": "code",
      "source": [
        "# Check the state of the fine tuning. Once finished \"fine_tuned_model\" will have a name.\n",
        "openai.FineTuningJob.retrieve(\"ftjob-ajDSfTME882gihBIwNpL23pq\")"
      ],
      "metadata": {
        "colab": {
          "base_uri": "https://localhost:8080/"
        },
        "id": "mHnzy6HXtufb",
        "outputId": "f56e1828-821c-4187-e6e3-47dc37a98bb5"
      },
      "execution_count": null,
      "outputs": [
        {
          "output_type": "execute_result",
          "data": {
            "text/plain": [
              "<FineTuningJob fine_tuning.job id=ftjob-ajDSfTME882gihBIwNpL23pq at 0x7e9516659350> JSON: {\n",
              "  \"object\": \"fine_tuning.job\",\n",
              "  \"id\": \"ftjob-ajDSfTME882gihBIwNpL23pq\",\n",
              "  \"model\": \"gpt-3.5-turbo-0613\",\n",
              "  \"created_at\": 1692765823,\n",
              "  \"finished_at\": 1692766383,\n",
              "  \"fine_tuned_model\": \"ft:gpt-3.5-turbo-0613:personal::7qa9UP0a\",\n",
              "  \"organization_id\": \"org-62MyjxLwbbsMgywL5uJQVgjM\",\n",
              "  \"result_files\": [\n",
              "    \"file-CYxIMhNm4hJq8otgcb9Nb04N\"\n",
              "  ],\n",
              "  \"status\": \"succeeded\",\n",
              "  \"validation_file\": null,\n",
              "  \"training_file\": \"file-Hyb3bEqTEJxuKu0sf2uz48Il\",\n",
              "  \"hyperparameters\": {\n",
              "    \"n_epochs\": 5\n",
              "  },\n",
              "  \"trained_tokens\": 79975\n",
              "}"
            ]
          },
          "metadata": {},
          "execution_count": 19
        }
      ]
    },
    {
      "cell_type": "code",
      "source": [
        "def base_flipside_model(prompt):\n",
        "\n",
        "  system_description = \"\"\"\n",
        "  \"You are an SQL assistant. You write SQL to query Flipside's Snowflake database with data for the Base blockchain.\n",
        "\n",
        "  The database has the following tables and columns:\n",
        "  [{\"\"TABLE_NAME\"\":\"\"dim_contracts\"\",\"\"COLUMN_NAMES\"\":[\"\"created_block_number\"\",\"\"decimals\"\",\"\"creator_address\"\",\"\"address\"\",\"\"created_tx_hash\"\",\"\"symbol\"\",\"\"name\"\",\"\"created_block_timestamp\"\"]},{\"\"TABLE_NAME\"\":\"\"dim_labels\"\",\"\"COLUMN_NAMES\"\":[\"\"address_name\"\",\"\"label_subtype\"\",\"\"label_type\"\",\"\"address\"\",\"\"blockchain\"\",\"\"creator\"\",\"\"project_name\"\"]},{\"\"TABLE_NAME\"\":\"\"ez_decoded_event_logs\"\",\"\"COLUMN_NAMES\"\":[\"\"origin_to_address\"\",\"\"origin_function_signature\"\",\"\"event_removed\"\",\"\"tx_hash\"\",\"\"block_number\"\",\"\"full_decoded_log\"\",\"\"tx_status\"\",\"\"contract_name\"\",\"\"data\"\",\"\"event_index\"\",\"\"event_name\"\",\"\"block_timestamp\"\",\"\"origin_from_address\"\",\"\"contract_address\"\",\"\"decoded_log\"\",\"\"topics\"\"]},{\"\"TABLE_NAME\"\":\"\"ez_nft_transfers\"\",\"\"COLUMN_NAMES\"\":[\"\"event_type\"\",\"\"tx_hash\"\",\"\"project_name\"\",\"\"block_number\"\",\"\"nft_from_address\"\",\"\"event_index\"\",\"\"nft_to_address\"\",\"\"nft_address\"\",\"\"erc1155_value\"\",\"\"tokenid\"\",\"\"block_timestamp\"\"]},{\"\"TABLE_NAME\"\":\"\"fact_blocks\"\",\"\"COLUMN_NAMES\"\":[\"\"blockchain\"\",\"\"size\"\",\"\"parent_hash\"\",\"\"gas_limit\"\",\"\"sha3_uncles\"\",\"\"block_header_json\"\",\"\"block_number\"\",\"\"network\"\",\"\"uncle_blocks\"\",\"\"extra_data\"\",\"\"block_timestamp\"\",\"\"difficulty\"\",\"\"receipts_root\"\",\"\"total_difficulty\"\",\"\"hash\"\",\"\"gas_used\"\",\"\"tx_count\"\"]},{\"\"TABLE_NAME\"\":\"\"fact_decoded_event_logs\"\",\"\"COLUMN_NAMES\"\":[\"\"event_index\"\",\"\"block_timestamp\"\",\"\"decoded_log\"\",\"\"tx_hash\"\",\"\"event_name\"\",\"\"contract_address\"\",\"\"full_decoded_log\"\",\"\"block_number\"\"]},{\"\"TABLE_NAME\"\":\"\"fact_event_logs\"\",\"\"COLUMN_NAMES\"\":[\"\"tx_status\"\",\"\"data\"\",\"\"tx_hash\"\",\"\"_log_id\"\",\"\"event_index\"\",\"\"block_timestamp\"\",\"\"topics\"\",\"\"block_number\"\",\"\"event_removed\"\",\"\"contract_address\"\",\"\"origin_from_address\"\",\"\"origin_to_address\"\",\"\"origin_function_signature\"\"]},{\"\"TABLE_NAME\"\":\"\"fact_hourly_token_prices\"\",\"\"COLUMN_NAMES\"\":[\"\"is_imputed\"\",\"\"decimals\"\",\"\"symbol\"\",\"\"token_address\"\",\"\"hour\"\",\"\"price\"\"]},{\"\"TABLE_NAME\"\":\"\"fact_token_transfers\"\",\"\"COLUMN_NAMES\"\":[\"\"to_address\"\",\"\"block_timestamp\"\",\"\"from_address\"\",\"\"raw_amount\"\",\"\"raw_amount_precise\"\",\"\"origin_function_signature\"\",\"\"origin_to_address\"\",\"\"contract_address\"\",\"\"_log_id\"\",\"\"tx_hash\"\",\"\"origin_from_address\"\",\"\"block_number\"\"]},{\"\"TABLE_NAME\"\":\"\"fact_traces\"\",\"\"COLUMN_NAMES\"\":[\"\"type\"\",\"\"tx_hash\"\",\"\"to_address\"\",\"\"trace_index\"\",\"\"block_number\"\",\"\"gas\"\",\"\"from_address\"\",\"\"eth_value\"\",\"\"eth_value_precise_raw\"\",\"\"block_timestamp\"\",\"\"data\"\",\"\"trace_status\"\",\"\"error_reason\"\",\"\"eth_value_precise\"\",\"\"input\"\",\"\"sub_traces\"\",\"\"identifier\"\",\"\"output\"\",\"\"gas_used\"\",\"\"tx_status\"\"]},{\"\"TABLE_NAME\"\":\"\"fact_transactions\"\",\"\"COLUMN_NAMES\"\":[\"\"cumulative_gas_used\"\",\"\"tx_fee_precise\"\",\"\"tx_fee\"\",\"\"l1_gas_used\"\",\"\"position\"\",\"\"l1_fee\"\",\"\"eth_value\"\",\"\"input_data\"\",\"\"block_hash\"\",\"\"l1_gas_price\"\",\"\"l1_fee_precise\"\",\"\"v\"\",\"\"gas_price\"\",\"\"status\"\",\"\"effective_gas_price\"\",\"\"block_timestamp\"\",\"\"l1_submission_details\"\",\"\"nonce\"\",\"\"eth_value_precise_raw\"\",\"\"tx_hash\"\",\"\"from_address\"\",\"\"max_priority_fee_per_gas\"\",\"\"eth_value_precise\"\",\"\"gas_limit\"\",\"\"block_number\"\",\"\"origin_function_signature\"\",\"\"l1_fee_scalar\"\",\"\"r\"\",\"\"gas_used\"\",\"\"s\"\",\"\"max_fee_per_gas\"\",\"\"to_address\"\"]}]\n",
        "\n",
        "  Please respond to a user's question about the Base blockchain with a SQL query.\"\n",
        "  \"\"\"\n",
        "\n",
        "  completion = openai.ChatCompletion.create(\n",
        "    model=\"ft:gpt-3.5-turbo-0613:personal::7qa9UP0a\",\n",
        "    messages=[\n",
        "      {\"role\": \"system\", \"content\": system_description},\n",
        "      {\"role\": \"user\", \"content\": prompt}\n",
        "    ]\n",
        "  )\n",
        "\n",
        "  return completion.choices[0].message"
      ],
      "metadata": {
        "id": "YCEE4oY4bnbu"
      },
      "execution_count": null,
      "outputs": []
    },
    {
      "cell_type": "code",
      "source": [
        "prompt = \"What is the daily number of transactions on Base?\"\n",
        "base_flipside_model(prompt)"
      ],
      "metadata": {
        "id": "20ZXy14NbnUP",
        "colab": {
          "base_uri": "https://localhost:8080/"
        },
        "outputId": "71b04d10-a57e-40ad-bb3b-f1bc4bc8e64e"
      },
      "execution_count": null,
      "outputs": [
        {
          "output_type": "execute_result",
          "data": {
            "text/plain": [
              "<OpenAIObject at 0x7e95166388b0> JSON: {\n",
              "  \"role\": \"assistant\",\n",
              "  \"content\": \"SELECT\\n  block_timestamp,\\n  COUNT(*) AS \\\"Number of Transactions\\\"\\nFROM\\n  base.core.fact_transactions\\nGROUP BY\\n  block_timestamp\\nORDER BY\\n  block_timestamp\\u1ee7a\"\n",
              "}"
            ]
          },
          "metadata": {},
          "execution_count": 21
        }
      ]
    }
  ]
}